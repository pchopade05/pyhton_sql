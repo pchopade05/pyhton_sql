{
 "cells": [
  {
   "cell_type": "code",
   "execution_count": 13,
   "id": "e71c3181",
   "metadata": {},
   "outputs": [
    {
     "name": "stdout",
     "output_type": "stream",
     "text": [
      "Requirement already satisfied: sqlalchemy in c:\\users\\admin\\anaconda3\\lib\\site-packages (1.4.15)\n",
      "Requirement already satisfied: greenlet!=0.4.17 in c:\\users\\admin\\anaconda3\\lib\\site-packages (from sqlalchemy) (1.1.0)\n",
      "Note: you may need to restart the kernel to use updated packages.\n"
     ]
    }
   ],
   "source": [
    "pip install sqlalchemy"
   ]
  },
  {
   "cell_type": "code",
   "execution_count": 21,
   "id": "a4389314",
   "metadata": {},
   "outputs": [],
   "source": [
    "# here we import pandas\n",
    "import pandas as pd\n"
   ]
  },
  {
   "cell_type": "code",
   "execution_count": 22,
   "id": "893c8a03",
   "metadata": {},
   "outputs": [],
   "source": [
    "#here we creating pandas dataframe and srtore into variable\n",
    "\n",
    "\n",
    "excel_nifty=pd.read_excel('nifty 100.xlsx')"
   ]
  },
  {
   "cell_type": "code",
   "execution_count": 23,
   "id": "cd7296ae",
   "metadata": {},
   "outputs": [
    {
     "data": {
      "text/html": [
       "<div>\n",
       "<style scoped>\n",
       "    .dataframe tbody tr th:only-of-type {\n",
       "        vertical-align: middle;\n",
       "    }\n",
       "\n",
       "    .dataframe tbody tr th {\n",
       "        vertical-align: top;\n",
       "    }\n",
       "\n",
       "    .dataframe thead th {\n",
       "        text-align: right;\n",
       "    }\n",
       "</style>\n",
       "<table border=\"1\" class=\"dataframe\">\n",
       "  <thead>\n",
       "    <tr style=\"text-align: right;\">\n",
       "      <th></th>\n",
       "      <th>Name</th>\n",
       "      <th>LTP</th>\n",
       "      <th>%Chg</th>\n",
       "      <th>Volume</th>\n",
       "      <th>Buy Price</th>\n",
       "      <th>Sell Price</th>\n",
       "      <th>Buy Qty</th>\n",
       "      <th>Sell Qty</th>\n",
       "      <th>Open</th>\n",
       "      <th>Analysis</th>\n",
       "    </tr>\n",
       "  </thead>\n",
       "  <tbody>\n",
       "    <tr>\n",
       "      <th>0</th>\n",
       "      <td>Abbott India</td>\n",
       "      <td>16076.05</td>\n",
       "      <td>-0.88</td>\n",
       "      <td>17081</td>\n",
       "      <td>16076.00</td>\n",
       "      <td>16084.85</td>\n",
       "      <td>1</td>\n",
       "      <td>3</td>\n",
       "      <td>16444.0</td>\n",
       "      <td>Analysis</td>\n",
       "    </tr>\n",
       "    <tr>\n",
       "      <th>1</th>\n",
       "      <td>ACC</td>\n",
       "      <td>2218.30</td>\n",
       "      <td>2.33</td>\n",
       "      <td>169416</td>\n",
       "      <td>2217.60</td>\n",
       "      <td>2218.30</td>\n",
       "      <td>1</td>\n",
       "      <td>10</td>\n",
       "      <td>2179.9</td>\n",
       "      <td>Analysis</td>\n",
       "    </tr>\n",
       "    <tr>\n",
       "      <th>2</th>\n",
       "      <td>Adani Enterpris</td>\n",
       "      <td>1711.70</td>\n",
       "      <td>1.52</td>\n",
       "      <td>1087308</td>\n",
       "      <td>1711.05</td>\n",
       "      <td>1711.95</td>\n",
       "      <td>92</td>\n",
       "      <td>43</td>\n",
       "      <td>1702.5</td>\n",
       "      <td>Analysis</td>\n",
       "    </tr>\n",
       "    <tr>\n",
       "      <th>3</th>\n",
       "      <td>Adani Green Ene</td>\n",
       "      <td>1933.95</td>\n",
       "      <td>1.24</td>\n",
       "      <td>167958</td>\n",
       "      <td>1932.65</td>\n",
       "      <td>1933.95</td>\n",
       "      <td>1</td>\n",
       "      <td>17</td>\n",
       "      <td>1945.0</td>\n",
       "      <td>Analysis</td>\n",
       "    </tr>\n",
       "    <tr>\n",
       "      <th>4</th>\n",
       "      <td>Adani Ports</td>\n",
       "      <td>720.00</td>\n",
       "      <td>1.54</td>\n",
       "      <td>2356022</td>\n",
       "      <td>719.80</td>\n",
       "      <td>720.00</td>\n",
       "      <td>12</td>\n",
       "      <td>91</td>\n",
       "      <td>713.0</td>\n",
       "      <td>Analysis</td>\n",
       "    </tr>\n",
       "  </tbody>\n",
       "</table>\n",
       "</div>"
      ],
      "text/plain": [
       "              Name       LTP  %Chg   Volume  Buy Price  Sell Price  Buy Qty  \\\n",
       "0     Abbott India  16076.05 -0.88    17081   16076.00    16084.85        1   \n",
       "1              ACC   2218.30  2.33   169416    2217.60     2218.30        1   \n",
       "2  Adani Enterpris   1711.70  1.52  1087308    1711.05     1711.95       92   \n",
       "3  Adani Green Ene   1933.95  1.24   167958    1932.65     1933.95        1   \n",
       "4      Adani Ports    720.00  1.54  2356022     719.80      720.00       12   \n",
       "\n",
       "   Sell Qty     Open  Analysis  \n",
       "0         3  16444.0  Analysis  \n",
       "1        10   2179.9  Analysis  \n",
       "2        43   1702.5  Analysis  \n",
       "3        17   1945.0  Analysis  \n",
       "4        91    713.0  Analysis  "
      ]
     },
     "execution_count": 23,
     "metadata": {},
     "output_type": "execute_result"
    }
   ],
   "source": [
    "#here we check dataframe using head only 5 to check value correct or not\n",
    "excel_nifty.head(5)\n"
   ]
  },
  {
   "cell_type": "code",
   "execution_count": 18,
   "id": "1ed0ae8b",
   "metadata": {},
   "outputs": [],
   "source": [
    "from sqlalchemy import create_engine"
   ]
  },
  {
   "cell_type": "code",
   "execution_count": 27,
   "id": "18bc2007",
   "metadata": {},
   "outputs": [],
   "source": [
    "import sqlalchemy\n",
    "database_username = 'prashant'\n",
    "database_password = 'password'\n",
    "database_ip       = 'localhost'\n",
    "database_name     = 'python_mysql'\n",
    "database_connection = sqlalchemy.create_engine('mysql+mysqlconnector://{0}:{1}@{2}/{3}'.\n",
    "                                               format(database_username, database_password, \n",
    "                                                      database_ip, database_name))\n"
   ]
  },
  {
   "cell_type": "code",
   "execution_count": 28,
   "id": "3557eac8",
   "metadata": {},
   "outputs": [],
   "source": [
    "excel_nifty.to_sql(con=database_connection, name='nifty midcap 50', if_exists='replace')\n"
   ]
  },
  {
   "cell_type": "code",
   "execution_count": 37,
   "id": "cbd89aaf",
   "metadata": {},
   "outputs": [],
   "source": [
    "#export a midacap nifty 50"
   ]
  },
  {
   "cell_type": "code",
   "execution_count": 40,
   "id": "3dc3d483",
   "metadata": {},
   "outputs": [],
   "source": [
    "excel_nifty_midcap50=pd.read_excel('nifty 50 large cap.xlsx')"
   ]
  },
  {
   "cell_type": "code",
   "execution_count": 41,
   "id": "a8166ffe",
   "metadata": {},
   "outputs": [],
   "source": [
    "excel_nifty_midcap50.to_sql(con=database_connection, name='nifty_largecap_50', if_exists='replace')"
   ]
  },
  {
   "cell_type": "code",
   "execution_count": null,
   "id": "152546b8",
   "metadata": {},
   "outputs": [],
   "source": []
  }
 ],
 "metadata": {
  "kernelspec": {
   "display_name": "Python 3",
   "language": "python",
   "name": "python3"
  },
  "language_info": {
   "codemirror_mode": {
    "name": "ipython",
    "version": 3
   },
   "file_extension": ".py",
   "mimetype": "text/x-python",
   "name": "python",
   "nbconvert_exporter": "python",
   "pygments_lexer": "ipython3",
   "version": "3.8.10"
  }
 },
 "nbformat": 4,
 "nbformat_minor": 5
}
